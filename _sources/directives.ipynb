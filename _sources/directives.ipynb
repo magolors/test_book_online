{
 "cells": [
  {
   "cell_type": "markdown",
   "metadata": {},
   "source": [
    "# Directives\n",
    "\n",
    "```{attention}\n",
    "attention\n",
    "```\n",
    "\n",
    "```{caution}\n",
    "caution\n",
    "```\n",
    "\n",
    "```{danger}\n",
    "danger\n",
    "```\n",
    "\n",
    "```{error}\n",
    "error\n",
    "```\n",
    "\n",
    "```{hint}\n",
    "hint\n",
    "```\n",
    "\n",
    "```{important}\n",
    "important\n",
    "```\n",
    "\n",
    "```{note}\n",
    "note\n",
    "```\n",
    "\n",
    "```{seealso}\n",
    "seealso\n",
    "```\n",
    "\n",
    "```{tip}\n",
    "tip\n",
    "```\n",
    "\n",
    "```{warning}\n",
    "warning\n",
    "```\n",
    "\n",
    "```{admonition} tip\n",
    ":class: tip\n",
    "admonoition\n",
    "```\n",
    "\n",
    "```{code-block} python\n",
    "A = list(map(int, input().split()))\n",
    "print(A)\n",
    "```\n",
    "\n",
    "```{code-block} cpp\n",
    "int main(int argc, char *argv[]) {\n",
    "    return 0;\n",
    "}\n",
    "```\n",
    "\n",
    "\n",
    "{fa}`check,text-success mr-1` This is an example of Roles (check mark & success color).\n",
    "\n",
    "{fa}`check,text-info mr-1` This is an example of Roles (check mark & info color)."
   ]
  },
  {
   "cell_type": "code",
   "execution_count": null,
   "metadata": {},
   "outputs": [],
   "source": [
    "a = 3\n",
    "b = 4\n",
    "print(a*b)"
   ]
  },
  {
   "cell_type": "code",
   "execution_count": null,
   "metadata": {
    "tags": [
     "remove-output"
    ]
   },
   "outputs": [],
   "source": [
    "!jupyter-book create --help"
   ]
  },
  {
   "cell_type": "code",
   "execution_count": null,
   "metadata": {
    "tags": [
     "remove-input"
    ]
   },
   "outputs": [],
   "source": [
    "!jupyter-book create --help"
   ]
  },
  {
   "cell_type": "markdown",
   "metadata": {},
   "source": [
    "````md\n",
    "```{directivename} arg1 arg2\n",
    ":key1: metadata1\n",
    ":key2: metadata2\n",
    "My directive content.\n",
    "```\n",
    "````"
   ]
  }
 ],
 "metadata": {
  "jupytext": {
   "formats": "md:myst",
   "text_representation": {
    "extension": ".md",
    "format_name": "myst",
    "format_version": 0.12,
    "jupytext_version": "1.6.0"
   }
  },
  "kernelspec": {
   "display_name": "Python 3",
   "language": "python",
   "name": "python3"
  },
  "source_map": [
   13,
   80,
   86,
   91,
   94
  ]
 },
 "nbformat": 4,
 "nbformat_minor": 4
}